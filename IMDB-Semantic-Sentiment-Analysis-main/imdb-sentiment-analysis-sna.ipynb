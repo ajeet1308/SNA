{
 "cells": [
  {
   "cell_type": "code",
   "execution_count": 1,
   "id": "75a1401f",
   "metadata": {
    "_cell_guid": "b1076dfc-b9ad-4769-8c92-a6c4dae69d19",
    "_uuid": "8f2839f25d086af736a60e9eeb907d3b93b6e0e5",
    "execution": {
     "iopub.execute_input": "2022-11-07T07:39:38.046303Z",
     "iopub.status.busy": "2022-11-07T07:39:38.045770Z",
     "iopub.status.idle": "2022-11-07T07:39:39.748633Z",
     "shell.execute_reply": "2022-11-07T07:39:39.747643Z"
    },
    "papermill": {
     "duration": 1.713375,
     "end_time": "2022-11-07T07:39:39.751268",
     "exception": false,
     "start_time": "2022-11-07T07:39:38.037893",
     "status": "completed"
    },
    "tags": []
   },
   "outputs": [],
   "source": [
    "import os, sys, warnings\n",
    "\n",
    "import numpy as np # linear algebra\n",
    "import pandas as pd # data processing\n",
    "\n",
    "import sklearn\n",
    "from sklearn.model_selection import train_test_split\n",
    "from sklearn.metrics import classification_report, accuracy_score, f1_score, recall_score, precision_score\n",
    "    \n",
    "# Libraries and packages for NLP\n",
    "import nltk, re\n",
    "from nltk.stem.porter import PorterStemmer\n",
    "import gensim\n",
    "from gensim.models import Word2Vec\n",
    "\n",
    "# Visualization \n",
    "import matplotlib\n",
    "import matplotlib.pyplot as plt\n",
    "import seaborn as sns"
   ]
  },
  {
   "cell_type": "code",
   "execution_count": 2,
   "id": "08269612",
   "metadata": {
    "execution": {
     "iopub.execute_input": "2022-11-07T07:39:39.763921Z",
     "iopub.status.busy": "2022-11-07T07:39:39.762455Z",
     "iopub.status.idle": "2022-11-07T07:39:41.200559Z",
     "shell.execute_reply": "2022-11-07T07:39:41.199644Z"
    },
    "papermill": {
     "duration": 1.446211,
     "end_time": "2022-11-07T07:39:41.202786",
     "exception": false,
     "start_time": "2022-11-07T07:39:39.756575",
     "status": "completed"
    },
    "tags": []
   },
   "outputs": [
    {
     "data": {
      "text/html": [
       "<div>\n",
       "<style scoped>\n",
       "    .dataframe tbody tr th:only-of-type {\n",
       "        vertical-align: middle;\n",
       "    }\n",
       "\n",
       "    .dataframe tbody tr th {\n",
       "        vertical-align: top;\n",
       "    }\n",
       "\n",
       "    .dataframe thead th {\n",
       "        text-align: right;\n",
       "    }\n",
       "</style>\n",
       "<table border=\"1\" class=\"dataframe\">\n",
       "  <thead>\n",
       "    <tr style=\"text-align: right;\">\n",
       "      <th></th>\n",
       "      <th>review</th>\n",
       "      <th>sentiment</th>\n",
       "    </tr>\n",
       "  </thead>\n",
       "  <tbody>\n",
       "    <tr>\n",
       "      <th>0</th>\n",
       "      <td>In 1974, the teenager Martha Moxley (Maggie Gr...</td>\n",
       "      <td>1</td>\n",
       "    </tr>\n",
       "    <tr>\n",
       "      <th>1</th>\n",
       "      <td>OK... so... I really like Kris Kristofferson a...</td>\n",
       "      <td>0</td>\n",
       "    </tr>\n",
       "    <tr>\n",
       "      <th>2</th>\n",
       "      <td>***SPOILER*** Do not read this, if you think a...</td>\n",
       "      <td>0</td>\n",
       "    </tr>\n",
       "    <tr>\n",
       "      <th>3</th>\n",
       "      <td>hi for all the people who have seen this wonde...</td>\n",
       "      <td>1</td>\n",
       "    </tr>\n",
       "    <tr>\n",
       "      <th>4</th>\n",
       "      <td>I recently bought the DVD, forgetting just how...</td>\n",
       "      <td>0</td>\n",
       "    </tr>\n",
       "  </tbody>\n",
       "</table>\n",
       "</div>"
      ],
      "text/plain": [
       "                                              review  sentiment\n",
       "0  In 1974, the teenager Martha Moxley (Maggie Gr...          1\n",
       "1  OK... so... I really like Kris Kristofferson a...          0\n",
       "2  ***SPOILER*** Do not read this, if you think a...          0\n",
       "3  hi for all the people who have seen this wonde...          1\n",
       "4  I recently bought the DVD, forgetting just how...          0"
      ]
     },
     "execution_count": 2,
     "metadata": {},
     "output_type": "execute_result"
    }
   ],
   "source": [
    "df= pd.read_csv('../input/imdb-reviews-iiit-project/movie_data.csv')\n",
    "df.head()"
   ]
  },
  {
   "cell_type": "code",
   "execution_count": 3,
   "id": "4c47b463",
   "metadata": {
    "execution": {
     "iopub.execute_input": "2022-11-07T07:39:41.214576Z",
     "iopub.status.busy": "2022-11-07T07:39:41.214295Z",
     "iopub.status.idle": "2022-11-07T07:39:41.225572Z",
     "shell.execute_reply": "2022-11-07T07:39:41.224636Z"
    },
    "papermill": {
     "duration": 0.019395,
     "end_time": "2022-11-07T07:39:41.227450",
     "exception": false,
     "start_time": "2022-11-07T07:39:41.208055",
     "status": "completed"
    },
    "tags": []
   },
   "outputs": [
    {
     "data": {
      "text/plain": [
       "1    25000\n",
       "0    25000\n",
       "Name: sentiment, dtype: int64"
      ]
     },
     "execution_count": 3,
     "metadata": {},
     "output_type": "execute_result"
    }
   ],
   "source": [
    "df['sentiment'].value_counts()"
   ]
  },
  {
   "cell_type": "markdown",
   "id": "19b85ec8",
   "metadata": {
    "papermill": {
     "duration": 0.004832,
     "end_time": "2022-11-07T07:39:41.237659",
     "exception": false,
     "start_time": "2022-11-07T07:39:41.232827",
     "status": "completed"
    },
    "tags": []
   },
   "source": [
    "## 1. Data Preprocessing"
   ]
  },
  {
   "cell_type": "code",
   "execution_count": 4,
   "id": "16b1db72",
   "metadata": {
    "execution": {
     "iopub.execute_input": "2022-11-07T07:39:41.249656Z",
     "iopub.status.busy": "2022-11-07T07:39:41.248784Z",
     "iopub.status.idle": "2022-11-07T07:39:41.260307Z",
     "shell.execute_reply": "2022-11-07T07:39:41.259480Z"
    },
    "papermill": {
     "duration": 0.019403,
     "end_time": "2022-11-07T07:39:41.262079",
     "exception": false,
     "start_time": "2022-11-07T07:39:41.242676",
     "status": "completed"
    },
    "tags": []
   },
   "outputs": [],
   "source": [
    "class Tokenizer: \n",
    "    \"\"\" After cleaning and denoising steps, in this class the text is broken up into tokens.\n",
    "    if clean: clean the text from all non-alphanumeric characters,\n",
    "    if lower: convert the text into lowercase,\n",
    "    If de_noise: remove HTML and URL components,\n",
    "    If keep_neagation: attach the negation tokens to the next token \n",
    "     and treat them as a single word before removing the stopwords\n",
    "     \n",
    "    Returns:\n",
    "    List of tokens\n",
    "    \"\"\"\n",
    "    # initialization method to create the default instance constructor for the class\n",
    "    def __init__(self,\n",
    "                 clean: bool = True,\n",
    "                 lower: bool = True, \n",
    "                 de_noise: bool = True, \n",
    "                 remove_stop_words: bool = True):\n",
    "      \n",
    "        self.de_noise = de_noise\n",
    "        self.remove_stop_words = remove_stop_words\n",
    "        self.clean = clean\n",
    "        self.lower = lower\n",
    "        self.stopwords = nltk.corpus.stopwords.words('english')\n",
    "        self.stemmer = PorterStemmer()\n",
    "\n",
    "    # other methods  \n",
    "    def denoise(self, text: str) -> str:\n",
    "        \"\"\"\n",
    "        Removing html and URL components\n",
    "        \"\"\"\n",
    "        html_pattern = r\"<.*?>|&([a-z0-9]+|#[0-9]{1,6}|#x[0-9a-f]{1,6});\"\n",
    "        url_pattern = r\"((http://)[^ ]*|(https://)[^ ]*|(www\\.)[^ ]*)\"\n",
    "\n",
    "        text = re.sub(html_pattern, \" \", text)\n",
    "        text = re.sub(url_pattern,\" \",text).strip()\n",
    "        return text\n",
    "       \n",
    "    \n",
    "    def remove_stopwords(self, tokenized_text: [str]):\n",
    "        text = [word for word in tokenized_text if word not in self.stopwords]\n",
    "        return text\n",
    "    \n",
    "    def stem_words(self, text):\n",
    "        return \" \".join([self.stemmer.stem(word) for word in text.split()])\n",
    "    \n",
    "    def tokenize(self, text: str):\n",
    "        \"\"\"\n",
    "        A function to tokenize words of the text\n",
    "        \"\"\"\n",
    "        non_alphanumeric_pattern =r\"[^a-zA-Z0-9]\"\n",
    "        \n",
    "        # to substitute multiple whitespace with single whitespace\n",
    "        text = ' '.join(text.split())\n",
    "\n",
    "        if self.de_noise:\n",
    "            text = self.denoise(text)\n",
    "        if self.lower:\n",
    "            text = text.lower()\n",
    "            \n",
    "        if self.clean:\n",
    "            # to remove non-alphanumeric characters\n",
    "            text = re.sub(non_alphanumeric_pattern,\" \", text).strip()\n",
    "        #text= self.stem_words(text)\n",
    "\n",
    "        tokenized_text = text.split()\n",
    "\n",
    "        if self.remove_stop_words:\n",
    "            tokenized_text = self.remove_stopwords(tokenized_text)\n",
    "\n",
    "        return tokenized_text"
   ]
  },
  {
   "cell_type": "code",
   "execution_count": 5,
   "id": "12395c53",
   "metadata": {
    "execution": {
     "iopub.execute_input": "2022-11-07T07:39:41.273208Z",
     "iopub.status.busy": "2022-11-07T07:39:41.272949Z",
     "iopub.status.idle": "2022-11-07T07:39:41.286444Z",
     "shell.execute_reply": "2022-11-07T07:39:41.285455Z"
    },
    "papermill": {
     "duration": 0.021775,
     "end_time": "2022-11-07T07:39:41.288798",
     "exception": false,
     "start_time": "2022-11-07T07:39:41.267023",
     "status": "completed"
    },
    "tags": []
   },
   "outputs": [
    {
     "name": "stdout",
     "output_type": "stream",
     "text": [
      "['like', 'movie', 'amusing', 'visually', 'interesting', 'recommend']\n"
     ]
    }
   ],
   "source": [
    "# Instancing the Tokenizer class\n",
    "tokenizer = Tokenizer(clean= True,\n",
    "                      lower= True, \n",
    "                      de_noise= True, \n",
    "                      remove_stop_words= True)\n",
    "\n",
    "# Example statement\n",
    "statement = \"I didn't like this Movie. It wasn't amusing nor visually interesting . I do not recommend it.\"\n",
    "print(tokenizer.tokenize(statement))"
   ]
  },
  {
   "cell_type": "code",
   "execution_count": 6,
   "id": "91aaf494",
   "metadata": {
    "execution": {
     "iopub.execute_input": "2022-11-07T07:39:41.299945Z",
     "iopub.status.busy": "2022-11-07T07:39:41.299666Z",
     "iopub.status.idle": "2022-11-07T07:40:12.720621Z",
     "shell.execute_reply": "2022-11-07T07:40:12.719723Z"
    },
    "papermill": {
     "duration": 31.430934,
     "end_time": "2022-11-07T07:40:12.724854",
     "exception": false,
     "start_time": "2022-11-07T07:39:41.293920",
     "status": "completed"
    },
    "tags": []
   },
   "outputs": [
    {
     "data": {
      "text/plain": [
       "count    50000.000000\n",
       "mean       119.593040\n",
       "std         90.309734\n",
       "min          3.000000\n",
       "25%         64.000000\n",
       "50%         89.000000\n",
       "75%        145.000000\n",
       "max       1435.000000\n",
       "Name: tokenized_text_len, dtype: float64"
      ]
     },
     "execution_count": 6,
     "metadata": {},
     "output_type": "execute_result"
    }
   ],
   "source": [
    "# Tokenize reviews\n",
    "df['tokenized_text'] = df['review'].apply(tokenizer.tokenize)\n",
    "\n",
    "df['tokenized_text_len'] = df['tokenized_text'].apply(len)\n",
    "df['tokenized_text_len'].describe()"
   ]
  },
  {
   "cell_type": "code",
   "execution_count": 7,
   "id": "74f14431",
   "metadata": {
    "execution": {
     "iopub.execute_input": "2022-11-07T07:40:12.737789Z",
     "iopub.status.busy": "2022-11-07T07:40:12.736209Z",
     "iopub.status.idle": "2022-11-07T07:40:12.753491Z",
     "shell.execute_reply": "2022-11-07T07:40:12.752501Z"
    },
    "papermill": {
     "duration": 0.025641,
     "end_time": "2022-11-07T07:40:12.755679",
     "exception": false,
     "start_time": "2022-11-07T07:40:12.730038",
     "status": "completed"
    },
    "tags": []
   },
   "outputs": [
    {
     "name": "stdout",
     "output_type": "stream",
     "text": [
      "df_train:  (40000, 4)\n",
      "df_test:  (10000, 4)\n"
     ]
    }
   ],
   "source": [
    "# Separating the target\n",
    "df= df.sample(frac=1, random_state=2)\n",
    "\n",
    "df_train= df[:40000]\n",
    "df_test= df[40000:]\n",
    "\n",
    "print(\"df_train: \", df_train.shape)\n",
    "print(\"df_test: \", df_test.shape)"
   ]
  },
  {
   "cell_type": "code",
   "execution_count": 8,
   "id": "96e8f07e",
   "metadata": {
    "execution": {
     "iopub.execute_input": "2022-11-07T07:40:12.767403Z",
     "iopub.status.busy": "2022-11-07T07:40:12.767127Z",
     "iopub.status.idle": "2022-11-07T07:40:13.018613Z",
     "shell.execute_reply": "2022-11-07T07:40:13.017611Z"
    },
    "papermill": {
     "duration": 0.259814,
     "end_time": "2022-11-07T07:40:13.020857",
     "exception": false,
     "start_time": "2022-11-07T07:40:12.761043",
     "status": "completed"
    },
    "tags": []
   },
   "outputs": [
    {
     "data": {
      "image/png": "[encoded data removed]",
      "text/plain": [
       "<Figure size 432x288 with 1 Axes>"
      ]
     },
     "metadata": {
      "needs_background": "light"
     },
     "output_type": "display_data"
    }
   ],
   "source": [
    "df.tokenized_text_len.hist(bins= 30)\n",
    "plt.show()"
   ]
  },
  {
   "cell_type": "markdown",
   "id": "28d916a4",
   "metadata": {
    "papermill": {
     "duration": 0.006325,
     "end_time": "2022-11-07T07:40:13.032819",
     "exception": false,
     "start_time": "2022-11-07T07:40:13.026494",
     "status": "completed"
    },
    "tags": []
   },
   "source": [
    "## 2. Unsupervised Approach\n"
   ]
  },
  {
   "cell_type": "code",
   "execution_count": 9,
   "id": "aeb87e1d",
   "metadata": {
    "execution": {
     "iopub.execute_input": "2022-11-07T07:40:13.046352Z",
     "iopub.status.busy": "2022-11-07T07:40:13.045424Z",
     "iopub.status.idle": "2022-11-07T07:44:40.739436Z",
     "shell.execute_reply": "2022-11-07T07:44:40.738400Z"
    },
    "papermill": {
     "duration": 267.708199,
     "end_time": "2022-11-07T07:44:40.746945",
     "exception": false,
     "start_time": "2022-11-07T07:40:13.038746",
     "status": "completed"
    },
    "tags": []
   },
   "outputs": [
    {
     "name": "stdout",
     "output_type": "stream",
     "text": [
      "CPU times: user 8min 17s, sys: 1.82 s, total: 8min 19s\n",
      "Wall time: 4min 27s\n"
     ]
    }
   ],
   "source": [
    "%%time\n",
    "def w2v_trainer(doc_tokens: [str],\n",
    "                epochs: int = 5,\n",
    "                workers: int = 3,\n",
    "                embedding_size: int = 1000,\n",
    "                window: int = 5, min_count: int = 2):\n",
    "\n",
    "    w2v_model = Word2Vec(doc_tokens,\n",
    "                         epochs=epochs,\n",
    "                         workers=workers,\n",
    "                         vector_size=embedding_size,\n",
    "                         window=window,\n",
    "                         min_count=min_count)\n",
    "    \n",
    "    # create objects to store keyed vectors and keyed vocabs\n",
    "    keyed_vectors = w2v_model.wv\n",
    "    keyed_vocab = keyed_vectors.key_to_index\n",
    "    \n",
    "    return keyed_vectors, keyed_vocab\n",
    "\n",
    "\n",
    "embedding_size= 1000\n",
    "# Training a Word2Vec model\n",
    "keyed_vectors, keyed_vocab = w2v_trainer(df_train['tokenized_text'],\n",
    "                                               epochs=10, workers=3,\n",
    "                                               embedding_size=embedding_size,\n",
    "                                               window=10, min_count=2)"
   ]
  },
  {
   "cell_type": "markdown",
   "id": "03e33606",
   "metadata": {
    "papermill": {
     "duration": 0.005401,
     "end_time": "2022-11-07T07:44:40.758176",
     "exception": false,
     "start_time": "2022-11-07T07:44:40.752775",
     "status": "completed"
    },
    "tags": []
   },
   "source": [
    "## Defining the negative and positive sets\n",
    "There is no unique formula to choose the positive and negative set [word cloud]. However, in order to have a starting point, I checked the most similar words to the words 'good' and 'bad' in our newly trained embedding space. Mixing it with my judgement on the context, I came up with the following lists:\n",
    "\n",
    "- `positive_concepts` = ['excellent', 'awesome', 'cool', 'decent', 'amazing', 'strong', 'good', 'great', 'funny', 'entertaining'] \n",
    "- `negative_concepts` = ['terrible', 'awful', 'horrible', 'boring', 'bad', 'disappointing', 'weak', 'poor',  'senseless', 'confusing']\n",
    "\n",
    "Please note that we should make sure that all `positive_concepts` and `negative_concepts` are represented in our word2vec model. "
   ]
  },
  {
   "cell_type": "code",
   "execution_count": 10,
   "id": "5c2c4cc0",
   "metadata": {
    "execution": {
     "iopub.execute_input": "2022-11-07T07:44:40.770510Z",
     "iopub.status.busy": "2022-11-07T07:44:40.770169Z",
     "iopub.status.idle": "2022-11-07T07:44:40.894971Z",
     "shell.execute_reply": "2022-11-07T07:44:40.893776Z"
    },
    "papermill": {
     "duration": 0.133501,
     "end_time": "2022-11-07T07:44:40.897109",
     "exception": false,
     "start_time": "2022-11-07T07:44:40.763608",
     "status": "completed"
    },
    "tags": []
   },
   "outputs": [
    {
     "name": "stdout",
     "output_type": "stream",
     "text": [
      "Positive\n"
     ]
    },
    {
     "data": {
      "text/plain": [
       "[('decent', 0.5940451622009277),\n",
       " ('great', 0.48362821340560913),\n",
       " ('nice', 0.4779336750507355),\n",
       " ('bad', 0.45992311835289),\n",
       " ('alright', 0.45832541584968567),\n",
       " ('solid', 0.4581753611564636),\n",
       " ('okay', 0.4580387771129608),\n",
       " ('fine', 0.45254117250442505),\n",
       " ('liked', 0.44730743765830994),\n",
       " ('ok', 0.4382731318473816),\n",
       " ('excellent', 0.43410593271255493),\n",
       " ('cool', 0.415096640586853),\n",
       " ('terrific', 0.4146568477153778),\n",
       " ('acceptable', 0.41220009326934814),\n",
       " ('awesome', 0.4012167453765869)]"
      ]
     },
     "execution_count": 10,
     "metadata": {},
     "output_type": "execute_result"
    }
   ],
   "source": [
    "# Find the most similar words to \"good\" based on word vectors from our trained model\n",
    "print('Positive')\n",
    "keyed_vectors.most_similar('good',topn=15)"
   ]
  },
  {
   "cell_type": "code",
   "execution_count": 11,
   "id": "54e7a296",
   "metadata": {
    "execution": {
     "iopub.execute_input": "2022-11-07T07:44:40.926831Z",
     "iopub.status.busy": "2022-11-07T07:44:40.926203Z",
     "iopub.status.idle": "2022-11-07T07:44:40.954990Z",
     "shell.execute_reply": "2022-11-07T07:44:40.953882Z"
    },
    "papermill": {
     "duration": 0.047284,
     "end_time": "2022-11-07T07:44:40.958297",
     "exception": false,
     "start_time": "2022-11-07T07:44:40.911013",
     "status": "completed"
    },
    "tags": []
   },
   "outputs": [
    {
     "data": {
      "text/plain": [
       "[('terrible', 0.6057188510894775),\n",
       " ('horrible', 0.6045576333999634),\n",
       " ('awful', 0.5579134225845337),\n",
       " ('atrocious', 0.5546827912330627),\n",
       " ('lousy', 0.5212897062301636),\n",
       " ('sucks', 0.5200861096382141),\n",
       " ('cheesy', 0.5194084048271179),\n",
       " ('suck', 0.5059002041816711),\n",
       " ('horrid', 0.5028241872787476),\n",
       " ('crappy', 0.5011688470840454),\n",
       " ('laughable', 0.4745619297027588),\n",
       " ('poor', 0.4674936532974243),\n",
       " ('good', 0.45992305874824524),\n",
       " ('dreadful', 0.4599118232727051),\n",
       " ('sucked', 0.44863948225975037)]"
      ]
     },
     "execution_count": 11,
     "metadata": {},
     "output_type": "execute_result"
    }
   ],
   "source": [
    "# Find the most similar words to \"bad\" based on word vectors from our trained model\n",
    "keyed_vectors.most_similar('bad',topn=15)"
   ]
  },
  {
   "cell_type": "code",
   "execution_count": 12,
   "id": "bb825409",
   "metadata": {
    "execution": {
     "iopub.execute_input": "2022-11-07T07:44:40.990561Z",
     "iopub.status.busy": "2022-11-07T07:44:40.989941Z",
     "iopub.status.idle": "2022-11-07T07:44:40.999909Z",
     "shell.execute_reply": "2022-11-07T07:44:40.999004Z"
    },
    "papermill": {
     "duration": 0.028873,
     "end_time": "2022-11-07T07:44:41.002866",
     "exception": false,
     "start_time": "2022-11-07T07:44:40.973993",
     "status": "completed"
    },
    "tags": []
   },
   "outputs": [
    {
     "data": {
      "text/plain": [
       "10"
      ]
     },
     "execution_count": 12,
     "metadata": {},
     "output_type": "execute_result"
    }
   ],
   "source": [
    "# To make sure that all `positive_concepts` are in the keyed word2vec vocabulary\n",
    "positive_concepts = ['excellent', 'awesome', 'cool','decent','amazing', 'strong', 'good', 'great', 'funny', 'entertaining'] \n",
    "pos_concepts = [concept for concept in positive_concepts if concept in keyed_vocab]\n",
    "len(positive_concepts)"
   ]
  },
  {
   "cell_type": "code",
   "execution_count": 13,
   "id": "cffd6fef",
   "metadata": {
    "execution": {
     "iopub.execute_input": "2022-11-07T07:44:41.034365Z",
     "iopub.status.busy": "2022-11-07T07:44:41.033812Z",
     "iopub.status.idle": "2022-11-07T07:44:41.042955Z",
     "shell.execute_reply": "2022-11-07T07:44:41.042091Z"
    },
    "papermill": {
     "duration": 0.028061,
     "end_time": "2022-11-07T07:44:41.046237",
     "exception": false,
     "start_time": "2022-11-07T07:44:41.018176",
     "status": "completed"
    },
    "tags": []
   },
   "outputs": [
    {
     "data": {
      "text/plain": [
       "10"
      ]
     },
     "execution_count": 13,
     "metadata": {},
     "output_type": "execute_result"
    }
   ],
   "source": [
    "# To make sure that all `negative_concepts` are in the keyed word2vec vocabulary \n",
    "negative_concepts = ['terrible','awful','horrible','boring','bad', 'disappointing', 'weak', 'poor',  'senseless','confusing'] \n",
    "neg_concepts = [concept for concept in negative_concepts if concept in keyed_vocab]\n",
    "len(negative_concepts)"
   ]
  },
  {
   "cell_type": "code",
   "execution_count": 14,
   "id": "864ec56b",
   "metadata": {
    "execution": {
     "iopub.execute_input": "2022-11-07T07:44:41.078381Z",
     "iopub.status.busy": "2022-11-07T07:44:41.077839Z",
     "iopub.status.idle": "2022-11-07T07:44:41.089354Z",
     "shell.execute_reply": "2022-11-07T07:44:41.088763Z"
    },
    "papermill": {
     "duration": 0.030187,
     "end_time": "2022-11-07T07:44:41.091097",
     "exception": false,
     "start_time": "2022-11-07T07:44:41.060910",
     "status": "completed"
    },
    "tags": []
   },
   "outputs": [],
   "source": [
    "def calculate_overall_similarity_score(keyed_vectors,\n",
    "                             target_tokens, doc_tokens):\n",
    "    \n",
    "    target_tokens = [token for token in target_tokens if token in keyed_vectors]\n",
    "    doc_tokens = [token for token in doc_tokens if token in keyed_vectors]\n",
    "    similarity_score = keyed_vectors.n_similarity(target_tokens, doc_tokens)\n",
    "    return similarity_score\n",
    "\n",
    "\n",
    "def overall_semantic_sentiment_analysis (keyed_vectors,\n",
    "                                         positive_target_tokens, negative_target_tokens,\n",
    "                                         doc_tokens, doc_is_series: bool = True):\n",
    "    \n",
    "    positive_score = doc_tokens.apply(lambda x: calculate_overall_similarity_score(keyed_vectors=keyed_vectors, \n",
    "                                                                 target_tokens=positive_target_tokens, \n",
    "                                                                 doc_tokens=x))\n",
    "    negative_score = doc_tokens.apply(lambda x: calculate_overall_similarity_score(keyed_vectors=keyed_vectors, \n",
    "                                                                 target_tokens=negative_target_tokens, \n",
    "                                                                 doc_tokens=x))\n",
    "    semantic_sentiment_score = positive_score - negative_score              \n",
    "    return semantic_sentiment_score"
   ]
  },
  {
   "cell_type": "code",
   "execution_count": 15,
   "id": "d82673ad",
   "metadata": {
    "execution": {
     "iopub.execute_input": "2022-11-07T07:44:41.104418Z",
     "iopub.status.busy": "2022-11-07T07:44:41.103742Z",
     "iopub.status.idle": "2022-11-07T07:44:51.564841Z",
     "shell.execute_reply": "2022-11-07T07:44:51.563776Z"
    },
    "papermill": {
     "duration": 10.470151,
     "end_time": "2022-11-07T07:44:51.567136",
     "exception": false,
     "start_time": "2022-11-07T07:44:41.096985",
     "status": "completed"
    },
    "tags": []
   },
   "outputs": [
    {
     "name": "stdout",
     "output_type": "stream",
     "text": [
      "CPU times: user 10.4 s, sys: 15.1 ms, total: 10.4 s\n",
      "Wall time: 10.5 s\n"
     ]
    }
   ],
   "source": [
    "%%time\n",
    "# Calculating Semantic Sentiment Scores by OSSA model\n",
    "overall_df_scores = overall_semantic_sentiment_analysis(keyed_vectors = keyed_vectors,\n",
    "                                                   positive_target_tokens = pos_concepts, \n",
    "                                                   negative_target_tokens = neg_concepts,\n",
    "                                                   doc_tokens = df_test['tokenized_text'])\n",
    "\n",
    "def to_categorical(overall_df_scores):\n",
    "    pred=[]\n",
    "    for ele in overall_df_scores:\n",
    "        if ele <0:\n",
    "            pred.append(0)\n",
    "        else:\n",
    "            pred.append(1)\n",
    "    return pred"
   ]
  },
  {
   "cell_type": "code",
   "execution_count": 16,
   "id": "87cceeeb",
   "metadata": {
    "execution": {
     "iopub.execute_input": "2022-11-07T07:44:51.583208Z",
     "iopub.status.busy": "2022-11-07T07:44:51.582120Z",
     "iopub.status.idle": "2022-11-07T07:44:51.592010Z",
     "shell.execute_reply": "2022-11-07T07:44:51.591032Z"
    },
    "papermill": {
     "duration": 0.01889,
     "end_time": "2022-11-07T07:44:51.593914",
     "exception": false,
     "start_time": "2022-11-07T07:44:51.575024",
     "status": "completed"
    },
    "tags": []
   },
   "outputs": [
    {
     "name": "stderr",
     "output_type": "stream",
     "text": [
      "/opt/conda/lib/python3.7/site-packages/ipykernel_launcher.py:1: SettingWithCopyWarning: \n",
      "A value is trying to be set on a copy of a slice from a DataFrame.\n",
      "Try using .loc[row_indexer,col_indexer] = value instead\n",
      "\n",
      "See the caveats in the documentation: https://pandas.pydata.org/pandas-docs/stable/user_guide/indexing.html#returning-a-view-versus-a-copy\n",
      "  \"\"\"Entry point for launching an IPython kernel.\n"
     ]
    }
   ],
   "source": [
    "df_test['pred']= to_categorical(overall_df_scores)"
   ]
  },
  {
   "cell_type": "code",
   "execution_count": 17,
   "id": "c0aa4977",
   "metadata": {
    "execution": {
     "iopub.execute_input": "2022-11-07T07:44:51.608658Z",
     "iopub.status.busy": "2022-11-07T07:44:51.606932Z",
     "iopub.status.idle": "2022-11-07T07:44:51.851552Z",
     "shell.execute_reply": "2022-11-07T07:44:51.850589Z"
    },
    "papermill": {
     "duration": 0.253856,
     "end_time": "2022-11-07T07:44:51.853745",
     "exception": false,
     "start_time": "2022-11-07T07:44:51.599889",
     "status": "completed"
    },
    "tags": []
   },
   "outputs": [
    {
     "data": {
      "image/png": "[encoded data removed]",
      "text/plain": [
       "<Figure size 432x288 with 1 Axes>"
      ]
     },
     "metadata": {
      "needs_background": "light"
     },
     "output_type": "display_data"
    }
   ],
   "source": [
    "plt.hist(overall_df_scores, bins=50)\n",
    "plt.show()"
   ]
  },
  {
   "cell_type": "code",
   "execution_count": 18,
   "id": "3dd9d361",
   "metadata": {
    "execution": {
     "iopub.execute_input": "2022-11-07T07:44:51.869302Z",
     "iopub.status.busy": "2022-11-07T07:44:51.867431Z",
     "iopub.status.idle": "2022-11-07T07:44:51.875458Z",
     "shell.execute_reply": "2022-11-07T07:44:51.874571Z"
    },
    "papermill": {
     "duration": 0.01737,
     "end_time": "2022-11-07T07:44:51.877494",
     "exception": false,
     "start_time": "2022-11-07T07:44:51.860124",
     "status": "completed"
    },
    "tags": []
   },
   "outputs": [],
   "source": [
    "def evaluate_model (y_true: pd.Series, \n",
    "                              y_pred: pd.Series, \n",
    "                              report:bool = False,\n",
    "                              plot: bool = False)-> float:\n",
    "    \"\"\"\n",
    "    A function to calculate F1, Accuracy, Recall, and Precision Score\n",
    "    If report: it prints classification_report \n",
    "    If plot: it prints Confusion Matrix Heatmap\n",
    "    \"\"\"\n",
    "    if report:\n",
    "        print(classification_report(y_true, \n",
    "                            y_pred,\n",
    "                            digits=4))\n",
    "    if plot:\n",
    "        # figure\n",
    "        fig, ax = plt.subplots(figsize=(4, 4))\n",
    "        conf_matrix = pd.crosstab(y_true, \n",
    "                           y_pred, \n",
    "                           rownames=['Actual'], \n",
    "                           colnames=['Predicted'])\n",
    "        sns.heatmap(conf_matrix, \n",
    "                    annot=True, fmt=\".0f\",\n",
    "                    cmap='RdYlGn', # use orange/red colour map\n",
    "                    cbar_kws={'fraction' : 0.04}, # shrink colour bar\n",
    "                    linewidth=0.3, # space between cells\n",
    "                   ) \n",
    "        plt.title('Confusion Matrix', fontsize=14)\n",
    "        plt.show()"
   ]
  },
  {
   "cell_type": "code",
   "execution_count": 19,
   "id": "dfafdf9b",
   "metadata": {
    "execution": {
     "iopub.execute_input": "2022-11-07T07:44:51.891288Z",
     "iopub.status.busy": "2022-11-07T07:44:51.891015Z",
     "iopub.status.idle": "2022-11-07T07:44:52.121281Z",
     "shell.execute_reply": "2022-11-07T07:44:52.120650Z"
    },
    "papermill": {
     "duration": 0.23952,
     "end_time": "2022-11-07T07:44:52.123085",
     "exception": false,
     "start_time": "2022-11-07T07:44:51.883565",
     "status": "completed"
    },
    "tags": []
   },
   "outputs": [
    {
     "data": {
      "image/png": "[encoded data removed]",
      "text/plain": [
       "<Figure size 288x288 with 2 Axes>"
      ]
     },
     "metadata": {
      "needs_background": "light"
     },
     "output_type": "display_data"
    }
   ],
   "source": [
    "evaluate_model(df_test['sentiment'],\n",
    "               df_test['pred'], False, True)"
   ]
  },
  {
   "cell_type": "code",
   "execution_count": 20,
   "id": "005133f9",
   "metadata": {
    "execution": {
     "iopub.execute_input": "2022-11-07T07:44:52.137664Z",
     "iopub.status.busy": "2022-11-07T07:44:52.137120Z",
     "iopub.status.idle": "2022-11-07T07:44:52.158459Z",
     "shell.execute_reply": "2022-11-07T07:44:52.157382Z"
    },
    "papermill": {
     "duration": 0.030634,
     "end_time": "2022-11-07T07:44:52.160459",
     "exception": false,
     "start_time": "2022-11-07T07:44:52.129825",
     "status": "completed"
    },
    "tags": []
   },
   "outputs": [
    {
     "name": "stdout",
     "output_type": "stream",
     "text": [
      "              precision    recall  f1-score   support\n",
      "\n",
      "           0     0.8496    0.7844    0.8157      4982\n",
      "           1     0.8011    0.8621    0.8305      5018\n",
      "\n",
      "    accuracy                         0.8234     10000\n",
      "   macro avg     0.8253    0.8233    0.8231     10000\n",
      "weighted avg     0.8253    0.8234    0.8231     10000\n",
      "\n"
     ]
    }
   ],
   "source": [
    "evaluate_model(df_test['sentiment'],\n",
    "               df_test['pred'], True, False)"
   ]
  },
  {
   "cell_type": "code",
   "execution_count": null,
   "id": "fc989ac3",
   "metadata": {
    "papermill": {
     "duration": 0.006479,
     "end_time": "2022-11-07T07:44:52.173728",
     "exception": false,
     "start_time": "2022-11-07T07:44:52.167249",
     "status": "completed"
    },
    "tags": []
   },
   "outputs": [],
   "source": []
  }
 ],
 "metadata": {
  "kernelspec": {
   "display_name": "Python 3",
   "language": "python",
   "name": "python3"
  },
  "language_info": {
   "codemirror_mode": {
    "name": "ipython",
    "version": 3
   },
   "file_extension": ".py",
   "mimetype": "text/x-python",
   "name": "python",
   "nbconvert_exporter": "python",
   "pygments_lexer": "ipython3",
   "version": "3.7.12"
  },
  "papermill": {
   "default_parameters": {},
   "duration": 322.549908,
   "end_time": "2022-11-07T07:44:53.202251",
   "environment_variables": {},
   "exception": null,
   "input_path": "__notebook__.ipynb",
   "output_path": "__notebook__.ipynb",
   "parameters": {},
   "start_time": "2022-11-07T07:39:30.652343",
   "version": "2.3.4"
  }
 },
 "nbformat": 4,
 "nbformat_minor": 5
}
